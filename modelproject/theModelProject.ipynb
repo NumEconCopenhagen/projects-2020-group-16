{
 "cells": [
  {
   "cell_type": "code",
   "execution_count": null,
   "metadata": {},
   "outputs": [],
   "source": [
    "import sympy as sm\n",
    "from sympy import *"
   ]
  },
  {
   "cell_type": "markdown",
   "metadata": {},
   "source": [
    "**Analytical solution**"
   ]
  },
  {
   "cell_type": "markdown",
   "metadata": {},
   "source": [
    "The model project concerns the Stackelberg duopoly model (later extended to an oligopoly).\n",
    "\n",
    "The opening model is a sequential move model, where two firms compete over quantities of some good. Firm 1 chooses a quantity, *$q_1\\geq0$*, of the good. Firm 2 then observes this quantity and sets their own quantity, *$q_2\\geq0$*, accordingly.\n",
    "\n",
    "The model has complete information.\n",
    "\n",
    "Each firm want to maximize profits w.r.t. quantity supplied using the profit function, known to both parties:\n",
    "$$\\pi_i(q_i,q_j)=q_i[P(Q)-c]$$\n",
    "*c* is the marginal cost of production, identical for both firms, and *P(Q)* is the market clearing price for the good:\n",
    "$$P(Q)=a-Q$$\n",
    "*$Q=q_1+q_2$* is the total production of the good in the economy."
   ]
  },
  {
   "cell_type": "markdown",
   "metadata": {},
   "source": [
    "Profit function:"
   ]
  },
  {
   "cell_type": "markdown",
   "metadata": {},
   "source": [
    "$$\n",
    "\\pi_2(q_1, q_2) = q_2(a - q_1 - q_2 - c)\n",
    "$$"
   ]
  },
  {
   "cell_type": "markdown",
   "metadata": {},
   "source": [
    "This must be maximized w.r.t. the quantity of firm 2, q_2"
   ]
  },
  {
   "cell_type": "markdown",
   "metadata": {},
   "source": [
    "$$\n",
    "\\max_{q_{2\\ge0}} \\pi_2(q_1, q_2)\n",
    "$$"
   ]
  },
  {
   "cell_type": "code",
   "execution_count": null,
   "metadata": {},
   "outputs": [],
   "source": [
    "# Define the symbols\n",
    "q_1 = sm.symbols('q_1')\n",
    "q_2 = sm.symbols('q_2')\n",
    "a = sm.symbols('a')\n",
    "c = sm.symbols('c')"
   ]
  },
  {
   "cell_type": "markdown",
   "metadata": {},
   "source": [
    "The model is solved using backwards induction, first firm 2 maximize their profit and find their response function $R_2(q_1)$ that way."
   ]
  },
  {
   "cell_type": "code",
   "execution_count": 19,
   "metadata": {},
   "outputs": [],
   "source": [
    "# Define the profit function for firm 2.\n",
    "profit_2 = q_2 * (a - q_1 - q_2 - c)"
   ]
  },
  {
   "cell_type": "markdown",
   "metadata": {},
   "source": [
    "To get the reaction function for $q_1$, the derivative is taken w.r.t. $q_2$ and isolating for $q_2$"
   ]
  },
  {
   "cell_type": "code",
   "execution_count": 37,
   "metadata": {},
   "outputs": [
    {
     "name": "stdout",
     "output_type": "stream",
     "text": [
      "R_2 = a/2 - c/2 - q_1/2\n"
     ]
    },
    {
     "data": {
      "text/latex": [
       "$\\displaystyle \\frac{a}{2} - \\frac{c}{2} - \\frac{q_{1}}{2}$"
      ],
      "text/plain": [
       "a/2 - c/2 - q_1/2"
      ]
     },
     "execution_count": 37,
     "metadata": {},
     "output_type": "execute_result"
    }
   ],
   "source": [
    "R_2 = sm.solve(format(Derivative(profit_2, q_2).doit()),q_2)[0]\n",
    "print(f\"R_2 = {R_2}\")\n",
    "R_2"
   ]
  },
  {
   "cell_type": "markdown",
   "metadata": {},
   "source": [
    "Now having found firm 2's response function for a quantity set by firm 1, firm 1 is now able to input this into their profit function"
   ]
  },
  {
   "cell_type": "markdown",
   "metadata": {},
   "source": [
    "$$\\pi_1(q_1, R_2(q_1)) = q_1(a - q_1 - R_2(q_1) - c)$$"
   ]
  },
  {
   "cell_type": "markdown",
   "metadata": {},
   "source": [
    "$$\\max_{q_{1\\ge0}} \\pi_1(q_1, R_2(q_1))=q_1(a - q_1 - (a/2 - c/2 - q_1/2) - c)$$"
   ]
  },
  {
   "cell_type": "code",
   "execution_count": 41,
   "metadata": {},
   "outputs": [],
   "source": [
    "profit_1 = q_1 * (a - q_1 - R_2 - c)"
   ]
  },
  {
   "cell_type": "markdown",
   "metadata": {},
   "source": [
    "Again, the derivative is is taken and isolated:"
   ]
  },
  {
   "cell_type": "code",
   "execution_count": 45,
   "metadata": {},
   "outputs": [
    {
     "name": "stdout",
     "output_type": "stream",
     "text": [
      "q_1* = a/2 - c/2\n"
     ]
    },
    {
     "data": {
      "text/latex": [
       "$\\displaystyle \\frac{a}{2} - \\frac{c}{2}$"
      ],
      "text/plain": [
       "a/2 - c/2"
      ]
     },
     "execution_count": 45,
     "metadata": {},
     "output_type": "execute_result"
    }
   ],
   "source": [
    "q_1_max = sm.solve(format(Derivative(profit_1, q_1).doit()),q_1)[0]\n",
    "print(f\"q_1* = {q_1_max}\")\n",
    "q_1_max"
   ]
  },
  {
   "cell_type": "markdown",
   "metadata": {},
   "source": [
    "Now that we have the optimal q_1, we can insert it in the optimal q_2 (the reaction function):"
   ]
  },
  {
   "cell_type": "markdown",
   "metadata": {},
   "source": [
    "$$R_2(q_1) = a/2 - c/2 - q_1/2$$"
   ]
  },
  {
   "cell_type": "markdown",
   "metadata": {},
   "source": [
    "$$\n",
    "R_2(q_1) = a/2 - c/2 - (a/2 - c/2)/2\n",
    "$$"
   ]
  },
  {
   "cell_type": "markdown",
   "metadata": {},
   "source": [
    "This gives the optimal q_2:"
   ]
  },
  {
   "cell_type": "code",
   "execution_count": 48,
   "metadata": {},
   "outputs": [
    {
     "name": "stdout",
     "output_type": "stream",
     "text": [
      "q_2* = a/2 - c/2\n"
     ]
    },
    {
     "data": {
      "text/latex": [
       "$\\displaystyle \\frac{a}{4} - \\frac{c}{4}$"
      ],
      "text/plain": [
       "a/4 - c/4"
      ]
     },
     "execution_count": 48,
     "metadata": {},
     "output_type": "execute_result"
    }
   ],
   "source": [
    "q_2_max = a/2 - c/2 - (a/2 - c/2)/2\n",
    "print(f\"q_2* = {q_1_max}\")\n",
    "q_2_max"
   ]
  },
  {
   "cell_type": "markdown",
   "metadata": {},
   "source": [
    "The takeaway from this result is that in the firm 1 have a first mover advantage over firm 2 in the Staceklberg competition.\n",
    "This is due to the fact, that it is a sequential move model with full information, therefore firm 2's only credible action is to commit to whatever quantity firm 1 sets. Knowing this firm 1 can set their quantity with the response from firm 2 as given.\n",
    "\n",
    "This is a different result from the Cournot model where both firm would move at the same time and therefore split the production evenly."
   ]
  },
  {
   "cell_type": "markdown",
   "metadata": {},
   "source": [
    "Now that the optimal q_1 and q_2 are found, they can be inserted in the respective profit functions for firm 1 and firm 2:"
   ]
  },
  {
   "cell_type": "code",
   "execution_count": 52,
   "metadata": {},
   "outputs": [
    {
     "data": {
      "text/latex": [
       "$\\displaystyle \\left(\\frac{a}{4} - \\frac{c}{4}\\right) \\left(\\frac{a}{2} - \\frac{c}{2}\\right)$"
      ],
      "text/plain": [
       "(a/4 - c/4)*(a/2 - c/2)"
      ]
     },
     "execution_count": 52,
     "metadata": {},
     "output_type": "execute_result"
    }
   ],
   "source": [
    "profit_1 = q_1_max * (a - q_1_max - q_2_max - c)\n",
    "profit_1"
   ]
  },
  {
   "cell_type": "code",
   "execution_count": 53,
   "metadata": {},
   "outputs": [
    {
     "data": {
      "text/latex": [
       "$\\displaystyle \\left(\\frac{a}{4} - \\frac{c}{4}\\right)^{2}$"
      ],
      "text/plain": [
       "(a/4 - c/4)**2"
      ]
     },
     "execution_count": 53,
     "metadata": {},
     "output_type": "execute_result"
    }
   ],
   "source": [
    "profit_2 = q_2_max * (a - q_1_max - q_2_max - c)\n",
    "profit_2"
   ]
  },
  {
   "cell_type": "markdown",
   "metadata": {},
   "source": [
    "Obviously as the two firms sell their good at the same price, and both have the same marginal cost of production, firm 1 will have a higher profit than firm 2 due to their first mover advantage."
   ]
  },
  {
   "cell_type": "markdown",
   "metadata": {},
   "source": [
    "**Extension**"
   ]
  },
  {
   "cell_type": "markdown",
   "metadata": {},
   "source": [
    "In the following we extend the model to allow more firms than just 2, going from a duopoly to an oligopoly. The new entrant, firm 3, will follow firm 2 in choosing their quantity."
   ]
  },
  {
   "cell_type": "code",
   "execution_count": 56,
   "metadata": {},
   "outputs": [],
   "source": [
    "q_3 = sm.symbols('q_3')"
   ]
  },
  {
   "cell_type": "code",
   "execution_count": 72,
   "metadata": {},
   "outputs": [],
   "source": [
    "profit_3 = q_3 * (a - q_1 - q_2 - q_3 - c)"
   ]
  },
  {
   "cell_type": "code",
   "execution_count": 84,
   "metadata": {},
   "outputs": [
    {
     "data": {
      "text/latex": [
       "$\\displaystyle \\frac{a}{2} - \\frac{c}{2} - \\frac{q_{1}}{2} - \\frac{q_{2}}{2}$"
      ],
      "text/plain": [
       "a/2 - c/2 - q_1/2 - q_2/2"
      ]
     },
     "execution_count": 84,
     "metadata": {},
     "output_type": "execute_result"
    }
   ],
   "source": [
    "R_3 = sm.solve(format(Derivative(profit_3, q_3).doit()),q_3)[0]\n",
    "R_3"
   ]
  },
  {
   "cell_type": "code",
   "execution_count": 92,
   "metadata": {},
   "outputs": [],
   "source": [
    "profit_2_new = q_2 * (a - q_1 - q_2 - R_3 - c)"
   ]
  },
  {
   "cell_type": "code",
   "execution_count": 93,
   "metadata": {},
   "outputs": [
    {
     "data": {
      "text/latex": [
       "$\\displaystyle \\frac{a}{2} - \\frac{c}{2} - \\frac{q_{1}}{2}$"
      ],
      "text/plain": [
       "a/2 - c/2 - q_1/2"
      ]
     },
     "execution_count": 93,
     "metadata": {},
     "output_type": "execute_result"
    }
   ],
   "source": [
    "R_2_new = sm.solve(format(Derivative(profit_2_new, q_2).doit()),q_2)[0]\n",
    "R_2_new"
   ]
  },
  {
   "cell_type": "markdown",
   "metadata": {},
   "source": [
    "This again can be inserted in R_3_new:"
   ]
  },
  {
   "cell_type": "code",
   "execution_count": 100,
   "metadata": {},
   "outputs": [],
   "source": [
    "R_3_new = a/2-c/2-q_1/2-(a/2-c/2-q_1/2)/2"
   ]
  },
  {
   "cell_type": "code",
   "execution_count": 106,
   "metadata": {},
   "outputs": [],
   "source": [
    "profit_1_new = q_1 * (a - q_1 - R_2_new - R_3_new - c)"
   ]
  },
  {
   "cell_type": "code",
   "execution_count": 103,
   "metadata": {},
   "outputs": [
    {
     "data": {
      "text/latex": [
       "$\\displaystyle \\frac{a}{2} - \\frac{c}{2}$"
      ],
      "text/plain": [
       "a/2 - c/2"
      ]
     },
     "execution_count": 103,
     "metadata": {},
     "output_type": "execute_result"
    }
   ],
   "source": [
    "q_1_max_new = sm.solve(format(Derivative(profit_1_new, q_1).doit()),q_1)[0]\n",
    "q_1_max_new"
   ]
  },
  {
   "cell_type": "code",
   "execution_count": 104,
   "metadata": {},
   "outputs": [
    {
     "data": {
      "text/latex": [
       "$\\displaystyle \\frac{a}{4} - \\frac{c}{4}$"
      ],
      "text/plain": [
       "a/4 - c/4"
      ]
     },
     "execution_count": 104,
     "metadata": {},
     "output_type": "execute_result"
    }
   ],
   "source": [
    "q_2_max_new = a/2 - c/2 - (a/2 - c/2)/2\n",
    "q_2_max_new"
   ]
  },
  {
   "cell_type": "code",
   "execution_count": 105,
   "metadata": {},
   "outputs": [
    {
     "data": {
      "text/latex": [
       "$\\displaystyle \\frac{a}{8} - \\frac{c}{8}$"
      ],
      "text/plain": [
       "a/8 - c/8"
      ]
     },
     "execution_count": 105,
     "metadata": {},
     "output_type": "execute_result"
    }
   ],
   "source": [
    "q_3_max = a/2 - c/2 - (a/2 - c/2)/2 - (a/4 - c/4)/2\n",
    "q_3_max"
   ]
  },
  {
   "cell_type": "code",
   "execution_count": 111,
   "metadata": {},
   "outputs": [
    {
     "data": {
      "text/latex": [
       "$\\displaystyle \\left(\\frac{a}{8} - \\frac{c}{8}\\right) \\left(\\frac{a}{2} - \\frac{c}{2}\\right)$"
      ],
      "text/plain": [
       "(a/8 - c/8)*(a/2 - c/2)"
      ]
     },
     "execution_count": 111,
     "metadata": {},
     "output_type": "execute_result"
    }
   ],
   "source": [
    "profit_1_new = q_1_max_new * (a - q_1_max_new - q_2_max_new - q_3_max - c)\n",
    "profit_1_new"
   ]
  },
  {
   "cell_type": "code",
   "execution_count": 112,
   "metadata": {},
   "outputs": [
    {
     "data": {
      "text/latex": [
       "$\\displaystyle \\left(\\frac{a}{8} - \\frac{c}{8}\\right) \\left(\\frac{a}{4} - \\frac{c}{4}\\right)$"
      ],
      "text/plain": [
       "(a/8 - c/8)*(a/4 - c/4)"
      ]
     },
     "execution_count": 112,
     "metadata": {},
     "output_type": "execute_result"
    }
   ],
   "source": [
    "profit_2_new = q_2_max_new * (a - q_1_max_new - q_2_max_new - q_3_max - c)\n",
    "profit_2_new"
   ]
  },
  {
   "cell_type": "code",
   "execution_count": 114,
   "metadata": {},
   "outputs": [
    {
     "data": {
      "text/latex": [
       "$\\displaystyle \\left(\\frac{a}{8} - \\frac{c}{8}\\right)^{2}$"
      ],
      "text/plain": [
       "(a/8 - c/8)**2"
      ]
     },
     "execution_count": 114,
     "metadata": {},
     "output_type": "execute_result"
    }
   ],
   "source": [
    "profit_3_new = q_3_max * (a - q_1_max_new - q_2_max_new - q_3_max - c)\n",
    "profit_3_new"
   ]
  },
  {
   "cell_type": "markdown",
   "metadata": {},
   "source": [
    "This augmented model shows, that the later you get to pick your quantity the worse of you get. This is due to the same intuition as the case for 2 firms, the other firms knowing the strategy that there must be commited to hurts the firms going in the later stages.\n",
    "Another way to exxapnd the amount of firms would be to still have two periods and let the remaining firms compete in a Cournot competition in stage 2."
   ]
  }
 ],
 "metadata": {
  "kernelspec": {
   "display_name": "Python 3",
   "language": "python",
   "name": "python3"
  },
  "language_info": {
   "codemirror_mode": {
    "name": "ipython",
    "version": 3
   },
   "file_extension": ".py",
   "mimetype": "text/x-python",
   "name": "python",
   "nbconvert_exporter": "python",
   "pygments_lexer": "ipython3",
   "version": "3.7.4-final"
  }
 },
 "nbformat": 4,
 "nbformat_minor": 4
}